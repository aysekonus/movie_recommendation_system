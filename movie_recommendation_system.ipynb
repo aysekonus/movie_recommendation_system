{
  "nbformat": 4,
  "nbformat_minor": 0,
  "metadata": {
    "colab": {
      "name": "Huawei_Internship_Task.ipynb",
      "provenance": [],
      "collapsed_sections": [],
      "authorship_tag": "ABX9TyO72mtMbgyq5/059XhENADh",
      "include_colab_link": true
    },
    "kernelspec": {
      "name": "python3",
      "display_name": "Python 3"
    },
    "language_info": {
      "name": "python"
    }
  },
  "cells": [
    {
      "cell_type": "markdown",
      "metadata": {
        "id": "view-in-github",
        "colab_type": "text"
      },
      "source": [
        "<a href=\"https://colab.research.google.com/github/aysekonus/movie_recommendation_system/blob/main/Huawei_Internship_Task.ipynb\" target=\"_parent\"><img src=\"https://colab.research.google.com/assets/colab-badge.svg\" alt=\"Open In Colab\"/></a>"
      ]
    },
    {
      "cell_type": "code",
      "execution_count": null,
      "metadata": {
        "id": "0eY3SOYa2imD"
      },
      "outputs": [],
      "source": [
        "# to connect database using sqlite\n",
        "\n",
        "import sqlite3\n",
        "\n",
        "con = sqlite3.connect(\"/content/movielens-small.db\")\n",
        "cursor = con.cursor()"
      ]
    },
    {
      "cell_type": "markdown",
      "source": [
        "## DATASET INFORMATION:\n",
        "---\n",
        "- **ratings.csv**\n",
        "```\n",
        "userId, movieId, rating, timestamp\n",
        "```\n",
        "- **tags.csv**\n",
        "```\n",
        "userId, movieId, tag, timestamp\n",
        "```\n",
        "- **movies.csv**\n",
        "```\n",
        "movieId, title, year, genres\n",
        "```\n",
        "- **links.csv**\n",
        "```\n",
        "movieId, imdbId, tmdbId\n",
        "```"
      ],
      "metadata": {
        "id": "IFZ1V7wC4PFW"
      }
    },
    {
      "cell_type": "markdown",
      "source": [
        "# **TASK - 1: Exploratory Data Analysis**\n",
        "---\n",
        "- **Write a SQL query to create a dataframe with including userid, movieid, genre and rating** : `read_dataframe()`\n",
        "- **Count ratings for each movie, and list top 5 movies with the highest value** : `list_top5count_movies()`\n",
        "- **Find and list top 5 most rated genres** : `list_top5rated_genres()`"
      ],
      "metadata": {
        "id": "3c-tGDXw5YTs"
      }
    },
    {
      "cell_type": "code",
      "source": [
        "# function to create dataframe with including userid, movieid, genre and rating\n",
        "def read_dataframe():\n",
        "  cursor.execute(\"SELECT ratings.userId, ratings.movieid, movies.genres, ratings.rating FROM ratings JOIN movies ON ratings.movieId = movies.movieId\")\n",
        "  data = cursor.fetchall()\n",
        "\n",
        "  print(\"USER_ID, MOVIE_ID, GENRE, RATING\\n--------------------------------------------\")\n",
        "  for i in data:\n",
        "    print(i)\n",
        "\n",
        "# function to create dataframe that has count ratings for each movie and list top 5 movies with the highest value of count ratings\n",
        "def list_top5count_movies():\n",
        "  cursor.execute(\"SELECT title, COUNT(rating) as count_rating FROM movies m JOIN ratings r ON m.movieId = r.movieId GROUP BY title ORDER BY count_rating DESC LIMIT 5\")\n",
        "  data = cursor.fetchall()\n",
        "\n",
        "  print(\"(MOVIE TITLE, COUNT OF RATING)\\n-------------------------------\")\n",
        "  for i in data:\n",
        "    print(i)\n",
        "\n",
        "# function to find and list top 5 most rated genres\n",
        "def list_top5rated_genres():\n",
        "  cursor.execute(\"SELECT genres, SUM(rating) as Sum_Rating FROM movies m JOIN ratings r ON m.movieId = r.movieId GROUP BY genres ORDER BY Sum_Rating DESC LIMIT 5\")\n",
        "  data = cursor.fetchall()\n",
        "\n",
        "  print(\"(MOVIE GENRE, SUM OF RATINGS)\\n-------------------------------\")\n",
        "  for i in data:\n",
        "    print(i)"
      ],
      "metadata": {
        "id": "ca7F2WUV5iFb"
      },
      "execution_count": null,
      "outputs": []
    },
    {
      "cell_type": "code",
      "source": [
        "# read_dataframe()\n",
        "# list_top5count_movies()\n",
        "list_top5rated_genres()"
      ],
      "metadata": {
        "id": "agh6oHoz6Wm5",
        "colab": {
          "base_uri": "https://localhost:8080/"
        },
        "outputId": "a6c4ef3a-a9b2-4cbe-86cf-1215d7691aa3"
      },
      "execution_count": null,
      "outputs": [
        {
          "output_type": "stream",
          "name": "stdout",
          "text": [
            "(MOVIE GENRE, SUM OF RATINGS)\n",
            "-------------------------------\n",
            "('Drama', 25650.0)\n",
            "('Comedy', 20529.5)\n",
            "('Comedy|Romance', 12930.5)\n",
            "('Drama|Romance', 11295.5)\n",
            "('Comedy|Drama', 10709.5)\n"
          ]
        }
      ]
    },
    {
      "cell_type": "markdown",
      "source": [
        "# **TASK - 2: Recommender Design**\n",
        "---\n",
        "\n",
        "- **Train a recommender model, one by using user ratings (please prefer a model under PySpark MLlib)**\n",
        "- **Present your model outputs by using essential metrics**\n",
        "\n",
        "> ## Requirements\n",
        "```\n",
        "!pip install pyspark\n",
        "```\n",
        "\n",
        "\n",
        "\n"
      ],
      "metadata": {
        "id": "LJofyiX6do84"
      }
    },
    {
      "cell_type": "code",
      "source": [
        "!pip install pyspark"
      ],
      "metadata": {
        "id": "_ysAn9Mo6oKr",
        "colab": {
          "base_uri": "https://localhost:8080/"
        },
        "outputId": "07ff909f-054b-4b1e-8ece-77eb99be539d"
      },
      "execution_count": null,
      "outputs": [
        {
          "output_type": "stream",
          "name": "stdout",
          "text": [
            "Collecting pyspark\n",
            "  Downloading pyspark-3.2.1.tar.gz (281.4 MB)\n",
            "\u001b[K     |████████████████████████████████| 281.4 MB 31 kB/s \n",
            "\u001b[?25hCollecting py4j==0.10.9.3\n",
            "  Downloading py4j-0.10.9.3-py2.py3-none-any.whl (198 kB)\n",
            "\u001b[K     |████████████████████████████████| 198 kB 59.4 MB/s \n",
            "\u001b[?25hBuilding wheels for collected packages: pyspark\n",
            "  Building wheel for pyspark (setup.py) ... \u001b[?25l\u001b[?25hdone\n",
            "  Created wheel for pyspark: filename=pyspark-3.2.1-py2.py3-none-any.whl size=281853642 sha256=0f3b2d8273643923b0237eba484f545cf8dd035130f8f829fe7516a6a8a2cc31\n",
            "  Stored in directory: /root/.cache/pip/wheels/9f/f5/07/7cd8017084dce4e93e84e92efd1e1d5334db05f2e83bcef74f\n",
            "Successfully built pyspark\n",
            "Installing collected packages: py4j, pyspark\n",
            "Successfully installed py4j-0.10.9.3 pyspark-3.2.1\n"
          ]
        }
      ]
    },
    {
      "cell_type": "code",
      "source": [
        "# for machine learning processes\n",
        "from pyspark.ml.evaluation import RegressionEvaluator\n",
        "from pyspark.ml.recommendation import ALS\n",
        "from pyspark.ml.tuning import TrainValidationSplit, ParamGridBuilder\n",
        "\n",
        "# for dataframe and spark session processes\n",
        "from pyspark.sql import SparkSession\n",
        "from pyspark.sql.functions import * \n",
        "from pyspark.sql.types import *\n",
        "from pyspark.context import SparkContext\n",
        "from datetime import date, timedelta, datetime\n",
        "import time"
      ],
      "metadata": {
        "id": "npANYz_ReTtN"
      },
      "execution_count": null,
      "outputs": []
    },
    {
      "cell_type": "markdown",
      "source": [
        "> **Functions required to create the dataset file containing the rating data (User_Id, Movie_Id, Rating) required for the recommendation system model:**\n",
        "\n",
        "- **`create_table()`** : to create the dataset file\n",
        "- **`insert_data()`** : to transfer data from the database to the data set created\n",
        "- **`ratings_show()`** : displays data to verify that the dataset has been created\n",
        "\n",
        "\n"
      ],
      "metadata": {
        "id": "t3GZzEYZ5mgX"
      }
    },
    {
      "cell_type": "code",
      "source": [
        "def create_table():\n",
        "  cursor.execute(\"CREATE TABLE movie_ratings (User_Id int, Movie_Id INT, Rating FLOAT)\")\n",
        "  data = cursor.fetchall()\n",
        "\n",
        "def insert_data():\n",
        "  cursor.execute(\"INSERT INTO movie_ratings (User_Id, Movie_Id, Rating) SELECT userid, m.movieid, r.rating FROM movies m JOIN ratings r ON m.movieId = r.movieId\")\n",
        "  data = cursor.fetchall() \n",
        "\n",
        "def ratings_show():\n",
        "  cursor.execute(\"SELECT * FROM movie_ratings LIMIT 5\")\n",
        "  data = cursor.fetchall() \n",
        "  for i in data:\n",
        "    print(i)\n",
        "\n",
        "create_table()\n",
        "insert_data()\n",
        "ratings_show()"
      ],
      "metadata": {
        "id": "5vjbVqFuhJ2b",
        "colab": {
          "base_uri": "https://localhost:8080/"
        },
        "outputId": "2dc84838-977b-4c5c-b8ed-4b201d93288f"
      },
      "execution_count": null,
      "outputs": [
        {
          "output_type": "stream",
          "name": "stdout",
          "text": [
            "(7, 1, 5.0)\n",
            "(10, 1, 4.0)\n",
            "(13, 1, 4.5)\n",
            "(16, 1, 5.0)\n",
            "(21, 1, 5.0)\n"
          ]
        }
      ]
    },
    {
      "cell_type": "markdown",
      "source": [
        "> **Functions required to create the dataset file containing the movie informations (Movie Id, Movie Genre and Movie Title) required for the recommendation system model:**\n",
        "\n",
        "- **`create_table()`** : to create the dataset file\n",
        "- **`insert_data()`** : to transfer data from the database to the data set created\n",
        "- **`movies_show()`** : displays data to verify that the dataset has been created\n"
      ],
      "metadata": {
        "id": "uMj7cHzI7YZV"
      }
    },
    {
      "cell_type": "code",
      "source": [
        "def create_table():\n",
        "  cursor.execute(\"CREATE TABLE movies_2 (Movie_Id INT, Genres VARCHAR(255), Title VARCHAR(255))\")\n",
        "  data = cursor.fetchall()\n",
        "\n",
        "def insert_data():\n",
        "  cursor.execute(\"INSERT INTO movies_2 (Movie_Id, Genres, Title) SELECT movieid, genres, title FROM movies\")\n",
        "  data = cursor.fetchall() \n",
        "\n",
        "def movies_show():\n",
        "  cursor.execute(\"SELECT * FROM movies_2 LIMIT 5\")\n",
        "  data = cursor.fetchall() \n",
        "  for i in data:\n",
        "    print(i)\n",
        "\n",
        "# create_table()\n",
        "# insert_data()\n",
        "movies_show()"
      ],
      "metadata": {
        "id": "G72kgbklQMjV",
        "colab": {
          "base_uri": "https://localhost:8080/"
        },
        "outputId": "983af0c0-9b4f-4fa1-98d7-598772759530"
      },
      "execution_count": null,
      "outputs": [
        {
          "output_type": "stream",
          "name": "stdout",
          "text": [
            "(1, 'Adventure|Animation|Children|Comedy|Fantasy', 'Toy Story')\n",
            "(2, 'Adventure|Children|Fantasy', 'Jumanji')\n",
            "(3, 'Comedy|Romance', 'Grumpier Old Men')\n",
            "(4, 'Comedy|Drama|Romance', 'Waiting to Exhale')\n",
            "(5, 'Comedy', 'Father of the Bride Part II')\n"
          ]
        }
      ]
    },
    {
      "cell_type": "code",
      "source": [
        "# to start spark session\n",
        "spark = SparkSession.builder.appName('Recommendations').getOrCreate()"
      ],
      "metadata": {
        "id": "stWDWq2ejZTD"
      },
      "execution_count": null,
      "outputs": []
    },
    {
      "cell_type": "markdown",
      "source": [
        "## **1.** Load The Datasets\n",
        "\n",
        "> **The file - folder relationship is as shown in the figure:**\n",
        "\n",
        "![readme için.jpg](data:image/jpeg;base64,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)"
      ],
      "metadata": {
        "id": "fc7r-fTV8O0R"
      }
    },
    {
      "cell_type": "code",
      "source": [
        "ratings  = spark.read.json('/content/datafiles_recommendation/ratings.db.json')\n",
        "movies  = spark.read.json('/content/datafiles_recommendation/movies.json')"
      ],
      "metadata": {
        "id": "JMmi0K6pk0vf"
      },
      "execution_count": null,
      "outputs": []
    },
    {
      "cell_type": "code",
      "source": [
        "# to verify that it was created correctly by viewing part of the dataset\n",
        "\n",
        "ratings.show(3)\n",
        "# ratings.printSchema()\n",
        "# ratings.describe().show()"
      ],
      "metadata": {
        "colab": {
          "base_uri": "https://localhost:8080/"
        },
        "id": "x20f-Of6NEtP",
        "outputId": "355213f6-bbe8-4fa8-89db-4df5dc6489b4"
      },
      "execution_count": null,
      "outputs": [
        {
          "output_type": "stream",
          "name": "stdout",
          "text": [
            "+--------+------+-------+\n",
            "|Movie_Id|Rating|User_Id|\n",
            "+--------+------+-------+\n",
            "|       1|   5.0|      7|\n",
            "|       1|   4.0|     10|\n",
            "|       1|   4.5|     13|\n",
            "+--------+------+-------+\n",
            "only showing top 3 rows\n",
            "\n"
          ]
        }
      ]
    },
    {
      "cell_type": "code",
      "source": [
        "# to verify that it was created correctly by viewing part of the dataset\n",
        "\n",
        "movies.show(3)\n",
        "# movies.printSchema()\n",
        "# movies.describe().show()"
      ],
      "metadata": {
        "colab": {
          "base_uri": "https://localhost:8080/"
        },
        "id": "AAioN0mSf4tf",
        "outputId": "7150ae33-1ebd-4781-ef45-1ef166f925a1"
      },
      "execution_count": null,
      "outputs": [
        {
          "output_type": "stream",
          "name": "stdout",
          "text": [
            "+--------------------+--------+----------------+\n",
            "|              Genres|Movie_Id|           Title|\n",
            "+--------------------+--------+----------------+\n",
            "|Adventure|Animati...|       1|       Toy Story|\n",
            "|Adventure|Childre...|       2|         Jumanji|\n",
            "|      Comedy|Romance|       3|Grumpier Old Men|\n",
            "+--------------------+--------+----------------+\n",
            "only showing top 3 rows\n",
            "\n"
          ]
        }
      ]
    },
    {
      "cell_type": "markdown",
      "source": [
        "### **To examine the density status of the dataset (sparsity)**"
      ],
      "metadata": {
        "id": "sq3t_0zf-o2x"
      }
    },
    {
      "cell_type": "code",
      "source": [
        "# Count the total number of ratings in the dataset\n",
        "numerator = ratings.select(\"Rating\").count() \n",
        "\n",
        "# Count the number of distinct User_Ids and distinct Movie_Ids\n",
        "num_users = ratings.select(\"User_Id\").distinct().count()\n",
        "num_movies = ratings.select(\"Movie_Id\").distinct().count()\n",
        "\n",
        "# Set the denominator equal to the number of users multiplied by the number of movies\n",
        "denominator = num_users * num_movies\n",
        "\n",
        "# Divide the numerator by the denominator\n",
        "sparsity = (1.0 - (numerator *1.0)/denominator)*100\n",
        "print(\"The ratings dataframe is\", \"%.2f\" % sparsity + \"% empty.\")"
      ],
      "metadata": {
        "colab": {
          "base_uri": "https://localhost:8080/"
        },
        "id": "_AR8UeqthwDx",
        "outputId": "35970b5f-b9b6-48dd-a82d-faa44cc7d175"
      },
      "execution_count": null,
      "outputs": [
        {
          "output_type": "stream",
          "name": "stdout",
          "text": [
            "The ratings dataframe is 98.34% empty.\n"
          ]
        }
      ]
    },
    {
      "cell_type": "markdown",
      "source": [
        "### **To interpret ratings**\n",
        "\n",
        "> **To find out how many ratings users generally have for movies and to see how many ratings each movie has**"
      ],
      "metadata": {
        "id": "gdhi9STe_q4H"
      }
    },
    {
      "cell_type": "code",
      "source": [
        "userId_ratings = ratings.groupBy(\"User_Id\").count().orderBy('count', ascending=False)\n",
        "userId_ratings.show(5)"
      ],
      "metadata": {
        "colab": {
          "base_uri": "https://localhost:8080/"
        },
        "id": "56-Y1A3KjQnc",
        "outputId": "fe542c83-aba1-43dc-ff54-a7ee0d9776e4"
      },
      "execution_count": null,
      "outputs": [
        {
          "output_type": "stream",
          "name": "stdout",
          "text": [
            "+-------+-----+\n",
            "|User_Id|count|\n",
            "+-------+-----+\n",
            "|    516| 2268|\n",
            "|    384| 1412|\n",
            "|    187| 1338|\n",
            "|     31| 1283|\n",
            "|    377| 1241|\n",
            "+-------+-----+\n",
            "only showing top 5 rows\n",
            "\n"
          ]
        }
      ]
    },
    {
      "cell_type": "code",
      "source": [
        "# Group data by userId, count ratings\n",
        "movieId_ratings = ratings.groupBy(\"Movie_Id\").count().orderBy('count', ascending=False)\n",
        "movieId_ratings.show(5)"
      ],
      "metadata": {
        "colab": {
          "base_uri": "https://localhost:8080/"
        },
        "id": "zSu0TFyTjYh7",
        "outputId": "6295812f-68ba-47ee-fc0d-0cb5b63a2de0"
      },
      "execution_count": null,
      "outputs": [
        {
          "output_type": "stream",
          "name": "stdout",
          "text": [
            "+--------+-----+\n",
            "|Movie_Id|count|\n",
            "+--------+-----+\n",
            "|     593|  337|\n",
            "|     318|  328|\n",
            "|     296|  327|\n",
            "|     480|  324|\n",
            "|     356|  318|\n",
            "+--------+-----+\n",
            "only showing top 5 rows\n",
            "\n"
          ]
        }
      ]
    },
    {
      "cell_type": "markdown",
      "source": [
        "## 2- **Let's Build Out An Alternating Least Square Model for Recommendation System**\n",
        "\n"
      ],
      "metadata": {
        "id": "vJ_WgK5djlRz"
      }
    },
    {
      "cell_type": "code",
      "source": [
        "# Create test and train set\n",
        "(train, test) = ratings.randomSplit([0.7, 0.3], seed=42)\n",
        "\n",
        "# Create Alternating Least Square Model\n",
        "als = ALS(userCol=\"User_Id\", itemCol=\"Movie_Id\", ratingCol=\"Rating\", coldStartStrategy=\"drop\", nonnegative=True)"
      ],
      "metadata": {
        "id": "nRFCmNO7-34e"
      },
      "execution_count": null,
      "outputs": []
    },
    {
      "cell_type": "markdown",
      "source": [
        "### Configure Spark to tune ALS model\n"
      ],
      "metadata": {
        "id": "smgb6be6Tob7"
      }
    },
    {
      "cell_type": "code",
      "source": [
        "# hyperparameters and their respective values to param_grid\n",
        "param_grid = ParamGridBuilder()\\\n",
        "            .addGrid(als.rank, [12,13,14])\\\n",
        "            .addGrid(als.maxIter, [18,19,20])\\\n",
        "            .addGrid(als.regParam, [.17, .18, .19])\\\n",
        "            .build()\n",
        "\n",
        "# Defining evaluator as RMSE and print length of evaluator\n",
        "evaluator = RegressionEvaluator(metricName=\"rmse\", labelCol=\"Rating\", predictionCol=\"prediction\")"
      ],
      "metadata": {
        "id": "bAbvpstHDinW"
      },
      "execution_count": null,
      "outputs": []
    },
    {
      "cell_type": "code",
      "source": [
        "# to build validation pipeline\n",
        "tvs = TrainValidationSplit(estimator=als,\n",
        "                           estimatorParamMaps=param_grid,\n",
        "                           evaluator=evaluator)"
      ],
      "metadata": {
        "id": "VjfRo2TeEL3-"
      },
      "execution_count": null,
      "outputs": []
    },
    {
      "cell_type": "markdown",
      "source": [
        "### **To set best model and best model parameters for recommendation system**"
      ],
      "metadata": {
        "id": "GiKi6ABoBHZi"
      }
    },
    {
      "cell_type": "code",
      "source": [
        "model = tvs.fit(train)"
      ],
      "metadata": {
        "id": "JrC2_SkkEcwL"
      },
      "execution_count": null,
      "outputs": []
    },
    {
      "cell_type": "code",
      "source": [
        "best_model = model.bestModel"
      ],
      "metadata": {
        "id": "_xuYfKfQEgQ8"
      },
      "execution_count": null,
      "outputs": []
    },
    {
      "cell_type": "code",
      "source": [
        "test_predictions = best_model.transform(test)\n",
        "test_predictions.show()"
      ],
      "metadata": {
        "id": "7A-QkXa5GsQ8",
        "colab": {
          "base_uri": "https://localhost:8080/"
        },
        "outputId": "c29ad508-bc37-4d31-dd1a-fe607dac0f03"
      },
      "execution_count": null,
      "outputs": [
        {
          "output_type": "stream",
          "name": "stdout",
          "text": [
            "+--------+------+-------+----------+\n",
            "|Movie_Id|Rating|User_Id|prediction|\n",
            "+--------+------+-------+----------+\n",
            "|       1|   5.0|    463|  3.714744|\n",
            "|      39|   4.0|    463| 2.9265532|\n",
            "|      50|   5.0|    471| 4.2191024|\n",
            "|     223|   4.0|    463| 3.6979783|\n",
            "|     296|   3.5|    463| 3.7659485|\n",
            "|     356|   2.5|    463| 3.7481034|\n",
            "|     364|   4.0|    463| 3.5133514|\n",
            "|     431|   0.5|    496| 2.6126382|\n",
            "|     480|   3.0|    463|  3.363496|\n",
            "|     593|   0.5|    463| 3.9473886|\n",
            "|     858|   3.0|    463|  4.002961|\n",
            "|    1022|   4.0|    496| 1.8810195|\n",
            "|    1263|   3.0|    148|  3.307123|\n",
            "|    1271|   2.5|    496| 2.5144684|\n",
            "|    1350|   2.0|    463| 3.5871649|\n",
            "|    1357|   2.5|    496| 2.3616364|\n",
            "|    1380|   3.5|    463| 2.7687407|\n",
            "|    1663|   2.0|    496| 2.3664596|\n",
            "|    1682|   4.0|    463| 3.7895508|\n",
            "|    1805|   3.0|    463| 2.8645997|\n",
            "+--------+------+-------+----------+\n",
            "only showing top 20 rows\n",
            "\n"
          ]
        }
      ]
    },
    {
      "cell_type": "code",
      "source": [
        "# View the predictions\n",
        "RMSE = evaluator.evaluate(test_predictions)\n",
        "print(RMSE)"
      ],
      "metadata": {
        "colab": {
          "base_uri": "https://localhost:8080/"
        },
        "id": "zoWBRxFtG1aH",
        "outputId": "f1286df4-d183-4640-b495-acfeb8aed4cd"
      },
      "execution_count": null,
      "outputs": [
        {
          "output_type": "stream",
          "name": "stdout",
          "text": [
            "0.9358478101821549\n"
          ]
        }
      ]
    },
    {
      "cell_type": "code",
      "source": [
        "print(\"Best Model\")\n",
        "print(\"-------------\")\n",
        "\n",
        "print(\"  Rank:\", best_model._java_obj.parent().getRank())\n",
        "print(\"  MaxIter:\", best_model._java_obj.parent().getMaxIter())\n",
        "print(\"  RegParam:\", best_model._java_obj.parent().getRegParam())"
      ],
      "metadata": {
        "colab": {
          "base_uri": "https://localhost:8080/"
        },
        "id": "FLRV1neYG2hd",
        "outputId": "dcec23c1-18b2-4b4b-dd00-eff3512c70eb"
      },
      "execution_count": null,
      "outputs": [
        {
          "output_type": "stream",
          "name": "stdout",
          "text": [
            "Best Model\n",
            "-------------\n",
            "  Rank: 14\n",
            "  MaxIter: 18\n",
            "  RegParam: 0.18\n"
          ]
        }
      ]
    },
    {
      "cell_type": "markdown",
      "source": [
        "## **3- Create The Recommendation System**"
      ],
      "metadata": {
        "id": "3XGHbC_iB5ry"
      }
    },
    {
      "cell_type": "code",
      "source": [
        "# Generate n (ex: 10) Recommendations for all users\n",
        "\n",
        "nrecommendations = best_model.recommendForAllUsers(10)\n",
        "nrecommendations.limit(10).show()"
      ],
      "metadata": {
        "colab": {
          "base_uri": "https://localhost:8080/"
        },
        "id": "ATp81KkZG6c9",
        "outputId": "d3f2ef4b-c7cb-44d0-fd54-da444ac2551a"
      },
      "execution_count": null,
      "outputs": [
        {
          "output_type": "stream",
          "name": "stderr",
          "text": [
            "/usr/local/lib/python3.7/dist-packages/pyspark/sql/context.py:127: FutureWarning: Deprecated in 3.0.0. Use SparkSession.builder.getOrCreate() instead.\n",
            "  FutureWarning\n"
          ]
        },
        {
          "output_type": "stream",
          "name": "stdout",
          "text": [
            "+-------+--------------------+\n",
            "|User_Id|     recommendations|\n",
            "+-------+--------------------+\n",
            "|      1|[{61742, 4.626641...|\n",
            "|      3|[{8675, 5.818129}...|\n",
            "|      5|[{2647, 4.62478},...|\n",
            "|      6|[{8675, 4.4502645...|\n",
            "|      9|[{8675, 5.3346553...|\n",
            "|     12|[{31785, 4.403877...|\n",
            "|     13|[{8675, 5.124443}...|\n",
            "|     15|[{7669, 4.8727922...|\n",
            "|     16|[{5792, 4.7523603...|\n",
            "|     17|[{3466, 4.4046903...|\n",
            "+-------+--------------------+\n",
            "\n"
          ]
        }
      ]
    },
    {
      "cell_type": "code",
      "source": [
        "# to split the recommendation column into 2 separate columns to bring the table to the format we want\n",
        "\n",
        "nrecommendations = nrecommendations\\\n",
        "    .withColumn(\"rec_exp\", explode(\"recommendations\"))\\\n",
        "    .select('User_Id', col(\"rec_exp.Movie_Id\"), col(\"rec_exp.Rating\"))\n",
        "\n",
        "nrecommendations.limit(10).show()"
      ],
      "metadata": {
        "colab": {
          "base_uri": "https://localhost:8080/"
        },
        "id": "Rbagp28kLejC",
        "outputId": "8b620467-f2da-459f-f183-f2c5c78d8364"
      },
      "execution_count": null,
      "outputs": [
        {
          "output_type": "stream",
          "name": "stdout",
          "text": [
            "+-------+--------+---------+\n",
            "|User_Id|Movie_Id|   Rating|\n",
            "+-------+--------+---------+\n",
            "|      1|   61742|4.6266413|\n",
            "|      1|   57910|4.6266413|\n",
            "|      1|    8675|4.6143594|\n",
            "|      1|    7070|4.5916395|\n",
            "|      1|    4710|4.5321174|\n",
            "|      1|    2457|4.3114796|\n",
            "|      1|    8491|4.2861776|\n",
            "|      1|   26840|4.2495356|\n",
            "|      1|   97172|4.2027597|\n",
            "|      1|   52579|4.2027597|\n",
            "+-------+--------+---------+\n",
            "\n"
          ]
        }
      ]
    },
    {
      "cell_type": "markdown",
      "source": [
        "## 4- RECOMMENDATION SYSTEM\n",
        "\n",
        "> **Movie recommendation system that filters the User_Id information according to the user we want and lists the most compatible movies for that user.**\n",
        "\n",
        "Please edit the filter `.filter(\"User_Id = N\")` with the **user's ID** (N) according to the user you want."
      ],
      "metadata": {
        "id": "Ez9hE7peCrbl"
      }
    },
    {
      "cell_type": "code",
      "source": [
        "nrecommendations.join(movies, on='Movie_Id').filter('User_Id = 100').sort('rating', ascending=False).limit(10).show()"
      ],
      "metadata": {
        "colab": {
          "base_uri": "https://localhost:8080/"
        },
        "id": "h2_P1mNrMlyx",
        "outputId": "4e99b150-246e-4cc9-cabe-56d98db8c1fc"
      },
      "execution_count": null,
      "outputs": [
        {
          "output_type": "stream",
          "name": "stdout",
          "text": [
            "+--------+-------+---------+--------------------+--------------------+\n",
            "|Movie_Id|User_Id|   Rating|              Genres|               Title|\n",
            "+--------+-------+---------+--------------------+--------------------+\n",
            "|    8675|    100| 5.232433|    Action|Drama|War|    Enemy Below, The|\n",
            "|    7070|    100| 4.972743|Action|Adventure|...|           Red River|\n",
            "|   57910|    100|4.9353347|       Comedy|Horror|               Teeth|\n",
            "|   61742|    100|4.9353347|         Documentary|Maradona by Kustu...|\n",
            "|    4710|    100|4.8961687|       Drama|Western|       Shootist, The|\n",
            "|      80|    100|4.8941445|      Children|Drama|White Balloon, Th...|\n",
            "|    1450|    100|4.7797093|                 War|Prisoner of the M...|\n",
            "|     764|    100|4.7797093|       Drama|Romance|               Heavy|\n",
            "|    6216|    100| 4.759422|               Drama|Nowhere in Africa...|\n",
            "|    1400|    100|4.7593737|               Drama| Somebody is Waiting|\n",
            "+--------+-------+---------+--------------------+--------------------+\n",
            "\n"
          ]
        }
      ]
    }
  ]
}
